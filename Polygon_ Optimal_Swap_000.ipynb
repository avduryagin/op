{
 "cells": [
  {
   "cell_type": "code",
   "execution_count": 1,
   "id": "47ed48f1",
   "metadata": {},
   "outputs": [],
   "source": [
    "import requests\n",
    "import json\n",
    "import pandas as pd\n",
    "import time\n",
    "import sys\n",
    "from web3 import Web3"
   ]
  },
  {
   "cell_type": "code",
   "execution_count": 2,
   "id": "9ca64c68",
   "metadata": {},
   "outputs": [],
   "source": [
    "TOKEN_ABI = requests.get('https://raw.githubusercontent.com/pancakeswap/pancake-subgraph/v2/subgraphs/exchange/abis/ERC20.json').json()\n",
    "FACTORY_ABI = requests.get('https://raw.githubusercontent.com/pancakeswap/pancake-subgraph/v2/subgraphs/exchange/abis/Factory.json').json()\n",
    "PAIR_ABI = requests.get('https://raw.githubusercontent.com/pancakeswap/pancake-subgraph/v2/subgraphs/exchange/abis/Pair.json').json()\n",
    "\n",
    "RPC_ENDPOINTS = ['http://176.9.101.209:8545']\n",
    "\n",
    "WMATIC_ADDRESS = '0x0d500B1d8E8eF31E21C99d1Db9A6444d3ADf1270'\n",
    "USDT_ADDRESS = '0xc2132d05d31c914a87c6611c10748aeb04b58e8f'\n",
    "USDC_ADDRESS = '0x2791Bca1f2de4661ED88A30C99A7a9449Aa84174'\n",
    "WETH_ADDRESS = '0x7ceB23fD6bC0adD59E62ac25578270cFf1b9f619'\n",
    "MAI_ADDRESS = '0xa3Fa99A148fA48D14Ed51d610c367C61876997F1'\n",
    "DAI_ADDRESS = '0x8f3Cf7ad23Cd3CaDbD9735AFf958023239c6A063'\n",
    "\n",
    "FACTORY_ADDRESS = Web3.toChecksumAddress('0x5757371414417b8c6caad45baef941abc7d3ab32') #quickswap v2\n",
    "FACTORY_ADDRESS = Web3.toChecksumAddress('0xc35dadb65012ec5796536bd9864ed8773abc74c4') #sushiswap v2\n",
    "\n",
    "\n",
    "\n",
    "\n",
    "network = Web3(Web3.HTTPProvider(\"http://176.9.101.209:8545\"))\n",
    "#network.middleware_onion.inject(geth_poa_middleware, layer=0)\n",
    "\n",
    "\n",
    "FACTORY_CONTRACT = network.eth.contract(address = FACTORY_ADDRESS, abi = FACTORY_ABI)"
   ]
  },
  {
   "cell_type": "code",
   "execution_count": 3,
   "id": "bac3d61a",
   "metadata": {},
   "outputs": [],
   "source": [
    "class Token():\n",
    "    def __init__(self, address: str, abi = TOKEN_ABI):\n",
    "        self.address = Web3.toChecksumAddress(address)\n",
    "        self.abi = abi\n",
    "        self.contract = network.eth.contract(address = self.address, abi = self.abi)\n",
    "        self.symbol = self.contract.functions.symbol().call()\n",
    "        self.decimals = self.contract.functions.decimals().call()\n",
    "    def getTokenWMaticPrice(self):\n",
    "        if self.address == Token(WMATIC_ADDRESS).address:\n",
    "            return 1.0\n",
    "\n",
    "        pair = Pair(WMATIC, Token(self.address))\n",
    "        reserves = pair.getReserves()\n",
    "        if pair.token0.address == Web3.toChecksumAddress(WMATIC_ADDRESS):\n",
    "            pair_WMATIC_value, pair_TOKEN_value = reserves\n",
    "        else:\n",
    "            pair_TOKEN_value, pair_WMATIC_value = reserves\n",
    "        return pair_WMATIC_value / pair_TOKEN_value\n",
    "\n",
    "\n",
    "    @staticmethod\n",
    "    def getWMATICUSDPrice():\n",
    "        USD_price = Token(USDC_ADDRESS).getTokenWMaticPrice()\n",
    "        if USD_price is None:\n",
    "            return None\n",
    "        return 1 / USD_price\n",
    "\n",
    "    def getTokenUSDTPrice(self):\n",
    "        if self.address == Token(USDT_ADDRESS).address:\n",
    "            return 1.0\n",
    "\n",
    "        pair = Pair(USDT, Token(self.address))\n",
    "        reserves = pair.getReserves()\n",
    "        if pair.token0.address == Web3.toChecksumAddress(USDT_ADDRESS):\n",
    "            pair_USDT_value, pair_TOKEN_value = reserves\n",
    "        else:\n",
    "            pair_TOKEN_value, pair_USDT_value = reserves\n",
    "        return pair_USDT_value / pair_TOKEN_value\n",
    "\n",
    "\n",
    "class Pair():\n",
    "    def __init__(self, token_A: Token, token_B: Token):\n",
    "        self.path = [token_A.address, token_B.address]\n",
    "        self.address = Pair.getAddress(token_A.address, token_B.address)\n",
    "        if self.address == None:\n",
    "                raise Exception(\"Such Pair doesn't exist\")\n",
    "        self.contract = network.eth.contract(address = self.address, abi = PAIR_ABI)\n",
    "        self.token0 = Token(self.contract.functions.token0().call())\n",
    "        self.token1 = Token(self.contract.functions.token1().call())\n",
    "\n",
    "    @staticmethod\n",
    "    def getAddress(tokenA_address: str, tokenB_address: str):\n",
    "        factory_contract = network.eth.contract(address = FACTORY_ADDRESS, abi = FACTORY_ABI)\n",
    "        pair_address = factory_contract.functions.getPair(tokenA_address, tokenB_address).call()\n",
    "        if pair_address.startswith('0x0000000000000'):\n",
    "            print(\"Pair address not found, recheck chosen tokens\")\n",
    "            return None\n",
    "        return Web3.toChecksumAddress(pair_address)\n",
    "\n",
    "    def getReserves(self):\n",
    "        return self.contract.functions.getReserves().call()[:2]\n",
    "\n",
    "    def getUSDLiquidity(self):\n",
    "        token0_amount, token1_amount = self.getReserves()\n",
    "        token0_price = self.token0.getTokenUSDPrice()\n",
    "        token1_price = self.token1.getTokenUSDPrice()\n",
    "        return token0_amount * token0_price + token1_amount * token1_price\n",
    "\n",
    "    def getWBNBLiquidity(self):\n",
    "        return WBNB.getBalanceOf(self.address)   "
   ]
  },
  {
   "cell_type": "code",
   "execution_count": 4,
   "id": "8c2ac21d",
   "metadata": {},
   "outputs": [],
   "source": [
    "WMATIC = Token(WMATIC_ADDRESS)\n",
    "USDC = Token(USDC_ADDRESS)\n",
    "USDT = Token(USDT_ADDRESS)\n",
    "\n",
    "PAIR = Pair(WMATIC,USDT)"
   ]
  },
  {
   "cell_type": "code",
   "execution_count": 5,
   "id": "72b27e9c",
   "metadata": {},
   "outputs": [
    {
     "data": {
      "text/plain": [
       "[20337959461672500992526, 17530066305]"
      ]
     },
     "execution_count": 5,
     "metadata": {},
     "output_type": "execute_result"
    }
   ],
   "source": [
    "PAIR.getReserves()"
   ]
  },
  {
   "cell_type": "code",
   "execution_count": 16,
   "id": "0c54e9e7",
   "metadata": {},
   "outputs": [],
   "source": [
    "TOKENS = {\n",
    "    'WMATIC_ADDRESS' : '0x0d500B1d8E8eF31E21C99d1Db9A6444d3ADf1270',\n",
    "    'USDT_ADDRESS' : '0xc2132d05d31c914a87c6611c10748aeb04b58e8f',\n",
    "    #'USDC_ADDRESS' : '0x2791Bca1f2de4661ED88A30C99A7a9449Aa84174',\n",
    "    #'WETH_ADDRESS' : '0x7ceB23fD6bC0adD59E62ac25578270cFf1b9f619',\n",
    "    #'MAI_ADDRESS' : '0xa3Fa99A148fA48D14Ed51d610c367C61876997F1',\n",
    "    'DAI_ADDRESS' : '0x8f3Cf7ad23Cd3CaDbD9735AFf958023239c6A063'\n",
    "    }\n",
    "\n",
    "EXCHANGES = {\n",
    "    'QUICKSWAP_2' :'0x5757371414417b8c6caad45baef941abc7d3ab32',\n",
    "    'SUSHISWAP_2' :'0xc35dadb65012ec5796536bd9864ed8773abc74c4'  \n",
    "}"
   ]
  },
  {
   "cell_type": "code",
   "execution_count": 124,
   "id": "2c580c95",
   "metadata": {},
   "outputs": [],
   "source": [
    " def getPairAddress(tokenA_address: str, tokenB_address: str):\n",
    "    factory_contract = network.eth.contract(address = FACTORY_ADDRESS, abi = FACTORY_ABI)\n",
    "    pair_address = factory_contract.functions.getPair(tokenA_address, tokenB_address).call()\n",
    "    if pair_address.startswith('0x0000000000000'):\n",
    "        print(\"Pair address not found, recheck chosen tokens\")\n",
    "        return None\n",
    "    return Web3.toChecksumAddress(pair_address)\n",
    "                       \n",
    "\n",
    "\n",
    "def get_pair_list(token_list,exchanges):\n",
    "    \n",
    "    pair_list_address = []\n",
    "    pair_list = []\n",
    "    PAIR_RECORD = {}\n",
    "    \n",
    "    for EXCHANGE in EXCHANGES.keys():\n",
    "        FACTORY_ADDRESS = Web3.toChecksumAddress(EXCHANGES[EXCHANGE])\n",
    "        FACTORY_CONTRACT = network.eth.contract(address = FACTORY_ADDRESS, abi = FACTORY_ABI)\n",
    "        \n",
    "        for TOKEN_NAME_0 in TOKENS.keys():\n",
    "            token0 = Web3.toChecksumAddress(TOKENS[TOKEN_NAME_0])\n",
    "            for TOKEN_NAME_1 in TOKENS.keys():\n",
    "                token1 = Web3.toChecksumAddress(TOKENS[TOKEN_NAME_1])\n",
    "                if not token0 == token1:\n",
    "                    pair_address = FACTORY_CONTRACT.functions.getPair(token0, token1).call()\n",
    "                    if not pair_address in pair_list_address:\n",
    "                        PAIR_RECORD = {}\n",
    "                        pair_list_address.append(pair_address)\n",
    "                        PAIR_RECORD['pair_address'] = pair_address \n",
    "                        PAIR_RECORD['exchange'] = EXCHANGE\n",
    "                        \n",
    "                        pair_list.append(PAIR_RECORD)\n",
    "                        #df = df.append(PAIR_RECORD, ignore_index=True)    \n",
    "  #Выше мы собираем список уникальных адресов пар по заданным токенам по выбранным биржам\n",
    "    \n",
    "    return pair_list\n",
    "\n",
    "def build_matrix(pair_list):\n",
    "    \n",
    "    df = pd.DataFrame()\n",
    "    \n",
    "    for pair in pair_list:\n",
    "        print (pair['pair_address'])\n",
    "        RECORD = {}\n",
    "        PAIR_CONTRACT = network.eth.contract(address = pair['pair_address'], abi = PAIR_ABI)\n",
    "        reserves = PAIR_CONTRACT.functions.getReserves().call()[:2]\n",
    "        \n",
    "        RECORD['pair_address'] = pair['pair_address']\n",
    "        RECORD['exchange'] = pair['exchange']\n",
    "        RECORD['reserve_token0']= reserves[0]\n",
    "        RECORD['reserve_token1']= reserves[1]\n",
    "        df = df.append(RECORD, ignore_index=True)\n",
    "    \n",
    "    return df\n",
    "    \n",
    "\n",
    "    \n",
    "    \n",
    "    \n",
    "    \n",
    "def swap_prediction (reserve0, reserve1, amountin0):\n",
    "    swap_amount = amountin0\n",
    "    swap_with_fee = swap_amount*0.997\n",
    "    amountout1 = reserve1 * swap_with_fee/(reserve0 + swap_with_fee)\n",
    "    \n",
    "    print ('BEFORE SWAP')\n",
    "    print ('Token_0: ',reserve0)    \n",
    "    print ('Token_1: ',reserve1)\n",
    "    print ('SWAP DATA')\n",
    "    print ('Token_0_in: ', swap_amount)\n",
    "    print ('Token_1_out: ', int(amountout1))\n",
    "    print ('AFTER SWAP')\n",
    "    print ('Token_0: ',int(reserve0 + swap_amount))    \n",
    "    print ('Token_1: ',int(reserve1 - amountout1))\n"
   ]
  },
  {
   "cell_type": "code",
   "execution_count": 126,
   "id": "6fa7f118",
   "metadata": {},
   "outputs": [
    {
     "data": {
      "text/html": [
       "<div>\n",
       "<style scoped>\n",
       "    .dataframe tbody tr th:only-of-type {\n",
       "        vertical-align: middle;\n",
       "    }\n",
       "\n",
       "    .dataframe tbody tr th {\n",
       "        vertical-align: top;\n",
       "    }\n",
       "\n",
       "    .dataframe thead th {\n",
       "        text-align: right;\n",
       "    }\n",
       "</style>\n",
       "<table border=\"1\" class=\"dataframe\">\n",
       "  <thead>\n",
       "    <tr style=\"text-align: right;\">\n",
       "      <th></th>\n",
       "      <th>exchange</th>\n",
       "      <th>pair_address</th>\n",
       "      <th>reserves</th>\n",
       "    </tr>\n",
       "  </thead>\n",
       "  <tbody>\n",
       "    <tr>\n",
       "      <th>0</th>\n",
       "      <td>QUICKSWAP_2</td>\n",
       "      <td>0x604229c960e5CACF2aaEAc8Be68Ac07BA9dF81c3</td>\n",
       "      <td>[833561367093992506128688, 718082302458]</td>\n",
       "    </tr>\n",
       "    <tr>\n",
       "      <th>1</th>\n",
       "      <td>QUICKSWAP_2</td>\n",
       "      <td>0xEEf611894CeaE652979C9D0DaE1dEb597790C6eE</td>\n",
       "      <td>[12786117809912307891886, 10975717544090093492...</td>\n",
       "    </tr>\n",
       "    <tr>\n",
       "      <th>2</th>\n",
       "      <td>QUICKSWAP_2</td>\n",
       "      <td>0x59153f27eeFE07E5eCE4f9304EBBa1DA6F53CA88</td>\n",
       "      <td>[92786761740114113054201, 92813489574]</td>\n",
       "    </tr>\n",
       "    <tr>\n",
       "      <th>3</th>\n",
       "      <td>SUSHISWAP_2</td>\n",
       "      <td>0x55FF76BFFC3Cdd9D5FdbBC2ece4528ECcE45047e</td>\n",
       "      <td>[20368465445070428551199, 17504016326]</td>\n",
       "    </tr>\n",
       "    <tr>\n",
       "      <th>4</th>\n",
       "      <td>SUSHISWAP_2</td>\n",
       "      <td>0x8929D3FEa77398F64448c85015633c2d6472fB29</td>\n",
       "      <td>[3588404931839703317869, 3077695923278030481344]</td>\n",
       "    </tr>\n",
       "    <tr>\n",
       "      <th>5</th>\n",
       "      <td>SUSHISWAP_2</td>\n",
       "      <td>0x3B31Bb4b6bA4f67F4EF54e78bCb0AAa4f53DC7fF</td>\n",
       "      <td>[2278367465531011796899, 2279072007]</td>\n",
       "    </tr>\n",
       "  </tbody>\n",
       "</table>\n",
       "</div>"
      ],
      "text/plain": [
       "      exchange                                pair_address  \\\n",
       "0  QUICKSWAP_2  0x604229c960e5CACF2aaEAc8Be68Ac07BA9dF81c3   \n",
       "1  QUICKSWAP_2  0xEEf611894CeaE652979C9D0DaE1dEb597790C6eE   \n",
       "2  QUICKSWAP_2  0x59153f27eeFE07E5eCE4f9304EBBa1DA6F53CA88   \n",
       "3  SUSHISWAP_2  0x55FF76BFFC3Cdd9D5FdbBC2ece4528ECcE45047e   \n",
       "4  SUSHISWAP_2  0x8929D3FEa77398F64448c85015633c2d6472fB29   \n",
       "5  SUSHISWAP_2  0x3B31Bb4b6bA4f67F4EF54e78bCb0AAa4f53DC7fF   \n",
       "\n",
       "                                            reserves  \n",
       "0           [833561367093992506128688, 718082302458]  \n",
       "1  [12786117809912307891886, 10975717544090093492...  \n",
       "2             [92786761740114113054201, 92813489574]  \n",
       "3             [20368465445070428551199, 17504016326]  \n",
       "4   [3588404931839703317869, 3077695923278030481344]  \n",
       "5               [2278367465531011796899, 2279072007]  "
      ]
     },
     "execution_count": 126,
     "metadata": {},
     "output_type": "execute_result"
    }
   ],
   "source": [
    "df"
   ]
  },
  {
   "cell_type": "code",
   "execution_count": 125,
   "id": "c609c8ae",
   "metadata": {},
   "outputs": [
    {
     "name": "stdout",
     "output_type": "stream",
     "text": [
      "0x604229c960e5CACF2aaEAc8Be68Ac07BA9dF81c3\n",
      "0xEEf611894CeaE652979C9D0DaE1dEb597790C6eE\n",
      "0x59153f27eeFE07E5eCE4f9304EBBa1DA6F53CA88\n",
      "0x55FF76BFFC3Cdd9D5FdbBC2ece4528ECcE45047e\n",
      "0x8929D3FEa77398F64448c85015633c2d6472fB29\n",
      "0x3B31Bb4b6bA4f67F4EF54e78bCb0AAa4f53DC7fF\n"
     ]
    }
   ],
   "source": [
    "df = build_matrix(pair_list)"
   ]
  },
  {
   "cell_type": "code",
   "execution_count": 99,
   "id": "f9d2fb16",
   "metadata": {},
   "outputs": [
    {
     "name": "stdout",
     "output_type": "stream",
     "text": [
      "{'pair_address': '0x604229c960e5CACF2aaEAc8Be68Ac07BA9dF81c3', 'exchange': 'QUICKSWAP_2'}\n",
      "{'pair_address': '0xEEf611894CeaE652979C9D0DaE1dEb597790C6eE', 'exchange': 'QUICKSWAP_2'}\n",
      "{'pair_address': '0x59153f27eeFE07E5eCE4f9304EBBa1DA6F53CA88', 'exchange': 'QUICKSWAP_2'}\n",
      "{'pair_address': '0x55FF76BFFC3Cdd9D5FdbBC2ece4528ECcE45047e', 'exchange': 'SUSHISWAP_2'}\n",
      "{'pair_address': '0x8929D3FEa77398F64448c85015633c2d6472fB29', 'exchange': 'SUSHISWAP_2'}\n",
      "{'pair_address': '0x3B31Bb4b6bA4f67F4EF54e78bCb0AAa4f53DC7fF', 'exchange': 'SUSHISWAP_2'}\n"
     ]
    }
   ],
   "source": [
    "pair_list = get_pair_list(TOKENS, EXCHANGES)\n",
    "for i in pair_list:\n",
    "    print(i)"
   ]
  },
  {
   "cell_type": "code",
   "execution_count": 69,
   "id": "42eb2ba2",
   "metadata": {},
   "outputs": [
    {
     "name": "stdout",
     "output_type": "stream",
     "text": [
      "<class 'pandas.core.series.Series'>\n",
      "<class 'pandas.core.series.Series'>\n",
      "<class 'pandas.core.series.Series'>\n",
      "<class 'pandas.core.series.Series'>\n",
      "<class 'pandas.core.series.Series'>\n",
      "<class 'pandas.core.series.Series'>\n"
     ]
    }
   ],
   "source": []
  },
  {
   "cell_type": "code",
   "execution_count": null,
   "id": "1c3338e2",
   "metadata": {},
   "outputs": [],
   "source": [
    "unique_pair_list = set(pair_list)"
   ]
  }
 ],
 "metadata": {
  "kernelspec": {
   "display_name": "Python 3 (ipykernel)",
   "language": "python",
   "name": "python3"
  },
  "language_info": {
   "codemirror_mode": {
    "name": "ipython",
    "version": 3
   },
   "file_extension": ".py",
   "mimetype": "text/x-python",
   "name": "python",
   "nbconvert_exporter": "python",
   "pygments_lexer": "ipython3",
   "version": "3.7.13"
  }
 },
 "nbformat": 4,
 "nbformat_minor": 5
}
